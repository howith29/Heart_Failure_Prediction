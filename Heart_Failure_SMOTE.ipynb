{
  "cells": [
    {
      "cell_type": "markdown",
      "metadata": {
        "id": "vExVCh8TaUYo"
      },
      "source": [
        "# Heart Failure"
      ]
    },
    {
      "cell_type": "markdown",
      "metadata": {
        "id": "0Jxyge6CaxQR"
      },
      "source": [
        "### full SMOTE vesion"
      ]
    },
    {
      "cell_type": "code",
      "execution_count": null,
      "metadata": {
        "id": "HDow53InZ_5c"
      },
      "outputs": [],
      "source": [
        "# Import required libraries\n",
        "import pandas as pd\n",
        "import numpy as np\n",
        "import matplotlib.pyplot as plt"
      ]
    },
    {
      "cell_type": "markdown",
      "metadata": {
        "id": "2dG2ESDEal6W"
      },
      "source": [
        "## Load Dataset and Split Data"
      ]
    },
    {
      "cell_type": "code",
      "execution_count": 3,
      "metadata": {
        "id": "aPCwRo9zau_8"
      },
      "outputs": [],
      "source": [
        "from sklearn.model_selection import train_test_split\n",
        "from imblearn.over_sampling import SMOTE"
      ]
    },
    {
      "cell_type": "code",
      "execution_count": null,
      "metadata": {
        "id": "IamD63g8akyX"
      },
      "outputs": [],
      "source": [
        "# Load the dataset\n",
        "clean_df = pd.read_csv('heart_failure_clean.csv')"
      ]
    },
    {
      "cell_type": "code",
      "execution_count": null,
      "metadata": {
        "id": "onz38dS1bEI5"
      },
      "outputs": [],
      "source": [
        "# select meaningful features\n",
        "use_df = clean_df[['age','ejection_fraction','serum_sodium','time','ct_gr','DEATH_EVENT']]"
      ]
    },
    {
      "cell_type": "code",
      "execution_count": null,
      "metadata": {
        "id": "w-NxPVxubR_v"
      },
      "outputs": [],
      "source": [
        "# Separate features and target label\n",
        "X = use_df.drop([\"DEATH_EVENT\"],axis=1)\n",
        "y = use_df['DEATH_EVENT']"
      ]
    },
    {
      "cell_type": "code",
      "execution_count": null,
      "metadata": {
        "id": "FkokCBTjbgeO"
      },
      "outputs": [],
      "source": [
        "# Apply SMOTE to the entire dataset\n",
        "smote = SMOTE(random_state=42)\n",
        "X_smote, y_smote = smote.fit_resample(X, y)"
      ]
    },
    {
      "cell_type": "code",
      "execution_count": null,
      "metadata": {
        "id": "_GMLCYOTbVOv"
      },
      "outputs": [],
      "source": [
        "# Split data into training and test sets\n",
        "X_train, X_test, y_train, y_test = train_test_split(\n",
        "    X_smote, y_smote, test_size=0.3, random_state=42)"
      ]
    },
    {
      "cell_type": "markdown",
      "metadata": {
        "id": "aI3OtKj2bj3s"
      },
      "source": [
        "## Model Training and Prediction"
      ]
    },
    {
      "cell_type": "code",
      "execution_count": 10,
      "metadata": {
        "id": "UZujfwa5bmBr"
      },
      "outputs": [],
      "source": [
        "from sklearn.model_selection import GridSearchCV, StratifiedKFold\n",
        "from sklearn.metrics import classification_report"
      ]
    },
    {
      "cell_type": "code",
      "execution_count": null,
      "metadata": {
        "id": "q1g-9aVJbnxn"
      },
      "outputs": [],
      "source": [
        "# set up StratifiedKFold for cross-validation (5-fold)\n",
        "cv = StratifiedKFold(n_splits=5, shuffle=True, random_state=42)"
      ]
    },
    {
      "cell_type": "markdown",
      "metadata": {
        "id": "6lMN2otmblKT"
      },
      "source": [
        "### Random Forest"
      ]
    },
    {
      "cell_type": "code",
      "execution_count": null,
      "metadata": {
        "id": "G5ASqWNkbrdY"
      },
      "outputs": [],
      "source": [
        "# import model\n",
        "from sklearn.ensemble import RandomForestClassifier"
      ]
    },
    {
      "cell_type": "code",
      "execution_count": null,
      "metadata": {
        "id": "tNQei1BZcMn7"
      },
      "outputs": [],
      "source": [
        "# Initialize Random Forest model\n",
        "model_rf = RandomForestClassifier(random_state=42)"
      ]
    },
    {
      "cell_type": "code",
      "execution_count": null,
      "metadata": {
        "id": "lln5yH49cNIU"
      },
      "outputs": [],
      "source": [
        "# Define hyperparameter search space\n",
        "param_rf = {\n",
        "    \"n_estimators\": [500, 1000, 1500],\n",
        "    \"max_depth\": [5, 10, 15],\n",
        "    \"min_samples_split\": [2, 5, 10],\n",
        "    \"min_samples_leaf\": [1, 2, 4]\n",
        "}"
      ]
    },
    {
      "cell_type": "code",
      "execution_count": null,
      "metadata": {
        "colab": {
          "base_uri": "https://localhost:8080/"
        },
        "id": "eIbSNdAocQdL",
        "outputId": "eab633b0-8250-481b-d80d-d5187171ed6f"
      },
      "outputs": [
        {
          "name": "stdout",
          "output_type": "stream",
          "text": [
            "Random Forest 결과\n",
            "              precision    recall  f1-score   support\n",
            "\n",
            "           0       0.88      0.86      0.87        57\n",
            "           1       0.88      0.89      0.89        65\n",
            "\n",
            "    accuracy                           0.88       122\n",
            "   macro avg       0.88      0.88      0.88       122\n",
            "weighted avg       0.88      0.88      0.88       122\n",
            "\n"
          ]
        }
      ],
      "source": [
        "# Hyperparameter tuning with GridSearchCV\n",
        "gscv_rf = GridSearchCV(model_rf, param_rf, cv=cv, n_jobs=-1, scoring='accuracy')\n",
        "gscv_rf.fit(X_train, y_train)\n",
        "\n",
        "# Get the best model\n",
        "MODEL_RF = gscv_rf.best_estimator_\n",
        "\n",
        "# Predict\n",
        "pred_rf = MODEL_RF.predict(X_test)\n",
        "\n",
        "# Evaluate performance\n",
        "print(\"Random Forest 결과\")\n",
        "print(classification_report(y_test, pred_rf))"
      ]
    },
    {
      "cell_type": "markdown",
      "metadata": {
        "id": "_cGk9Utjcb5U"
      },
      "source": [
        "### Decision Tree"
      ]
    },
    {
      "cell_type": "code",
      "execution_count": null,
      "metadata": {
        "id": "ivIgML3mcXmk"
      },
      "outputs": [],
      "source": [
        "# import model\n",
        "from sklearn.tree import DecisionTreeClassifier"
      ]
    },
    {
      "cell_type": "code",
      "execution_count": null,
      "metadata": {
        "id": "dmIXPpUrcf3v"
      },
      "outputs": [],
      "source": [
        "# Initialize Decision Tree model\n",
        "model_dt = DecisionTreeClassifier(random_state=42)"
      ]
    },
    {
      "cell_type": "code",
      "execution_count": null,
      "metadata": {
        "id": "V7Ck9UwOchA_"
      },
      "outputs": [],
      "source": [
        "# Define hyperparameter search space\n",
        "param_dt = {\n",
        "    \"max_depth\": [3, 5, 10, 15],\n",
        "    \"min_samples_split\": [2, 5, 10],\n",
        "    \"min_samples_leaf\": [1, 2, 5]\n",
        "}"
      ]
    },
    {
      "cell_type": "code",
      "execution_count": null,
      "metadata": {
        "colab": {
          "base_uri": "https://localhost:8080/"
        },
        "id": "ciDBcxWSchur",
        "outputId": "262baac6-3d5b-4797-f504-6f8a8a6477a6"
      },
      "outputs": [
        {
          "name": "stdout",
          "output_type": "stream",
          "text": [
            "Decision Tree Test 결과\n",
            "              precision    recall  f1-score   support\n",
            "\n",
            "           0       0.71      0.86      0.78        57\n",
            "           1       0.85      0.69      0.76        65\n",
            "\n",
            "    accuracy                           0.77       122\n",
            "   macro avg       0.78      0.78      0.77       122\n",
            "weighted avg       0.78      0.77      0.77       122\n",
            "\n"
          ]
        }
      ],
      "source": [
        "# Hyperparameter tuning with GridSearchCV\n",
        "gscv_dt = GridSearchCV(model_dt, param_dt, cv=cv, n_jobs=-1, scoring='accuracy')\n",
        "gscv_dt.fit(X_train, y_train)\n",
        "\n",
        "# Get the best model\n",
        "MODEL_DT = gscv_dt.best_estimator_\n",
        "\n",
        "# Predict\n",
        "pred_dt = MODEL_DT.predict(X_test)\n",
        "\n",
        "# Evaluate performance\n",
        "print(\"Decision Tree Test 결과\")\n",
        "print(classification_report(y_test, pred_dt))"
      ]
    },
    {
      "cell_type": "markdown",
      "metadata": {
        "id": "skV9wxHAc1To"
      },
      "source": [
        "### SVM"
      ]
    },
    {
      "cell_type": "code",
      "execution_count": null,
      "metadata": {
        "id": "A2_CMmywc8KW"
      },
      "outputs": [],
      "source": [
        "# import model\n",
        "from sklearn.svm import SVC"
      ]
    },
    {
      "cell_type": "code",
      "execution_count": null,
      "metadata": {
        "id": "ExyWoBV7cyPo"
      },
      "outputs": [],
      "source": [
        "# Initialize Support Vector Machine model\n",
        "model_svm = SVC(probability=True, random_state=42)"
      ]
    },
    {
      "cell_type": "code",
      "execution_count": null,
      "metadata": {
        "id": "3bDnje5-c4Xf"
      },
      "outputs": [],
      "source": [
        "# Define hyperparameter search space\n",
        "param_svm = {\n",
        "    'C': [0.1, 1, 10],\n",
        "    'kernel': ['linear', 'rbf'],\n",
        "    'gamma': ['scale', 'auto']\n",
        "}"
      ]
    },
    {
      "cell_type": "code",
      "execution_count": null,
      "metadata": {
        "colab": {
          "base_uri": "https://localhost:8080/"
        },
        "id": "Q3SSMN2lc5zA",
        "outputId": "4836ff98-3b3b-481a-b950-0b0db04952b8"
      },
      "outputs": [
        {
          "name": "stdout",
          "output_type": "stream",
          "text": [
            "SVM Test 결과\n",
            "              precision    recall  f1-score   support\n",
            "\n",
            "           0       0.73      0.79      0.76        57\n",
            "           1       0.80      0.74      0.77        65\n",
            "\n",
            "    accuracy                           0.76       122\n",
            "   macro avg       0.76      0.76      0.76       122\n",
            "weighted avg       0.77      0.76      0.76       122\n",
            "\n"
          ]
        }
      ],
      "source": [
        "# Hyperparameter tuning with GridSearchCV\n",
        "gscv_svm = GridSearchCV(model_svm, param_svm, cv=cv, n_jobs=-1, scoring='accuracy')\n",
        "gscv_svm.fit(X_train, y_train)\n",
        "\n",
        "# Get the best model\n",
        "MODEL_SVM = gscv_svm.best_estimator_\n",
        "\n",
        "# Predict\n",
        "pred_svm = MODEL_SVM.predict(X_test)\n",
        "\n",
        "# Evaluate performance\n",
        "print(\"SVM Test 결과\")\n",
        "print(classification_report(y_test, pred_svm))"
      ]
    },
    {
      "cell_type": "markdown",
      "metadata": {
        "id": "Hn-kSsRMdDxa"
      },
      "source": [
        "### Logistic Regression"
      ]
    },
    {
      "cell_type": "code",
      "execution_count": null,
      "metadata": {
        "id": "t5K9ruEGdHRr"
      },
      "outputs": [],
      "source": [
        "# import model\n",
        "from sklearn.linear_model import LogisticRegression"
      ]
    },
    {
      "cell_type": "code",
      "execution_count": null,
      "metadata": {
        "id": "VKFGICgXdHyj"
      },
      "outputs": [],
      "source": [
        "# Initialize Logistic Regression model\n",
        "model_logreg = LogisticRegression(random_state=42)"
      ]
    },
    {
      "cell_type": "code",
      "execution_count": null,
      "metadata": {
        "id": "7jlGV0H4dJHT"
      },
      "outputs": [],
      "source": [
        "# Define hyperparameter search space\n",
        "param_logreg = {\n",
        "    'C': [0.1, 1, 10, 100],\n",
        "    'penalty': ['l2']\n",
        "}"
      ]
    },
    {
      "cell_type": "code",
      "execution_count": null,
      "metadata": {
        "colab": {
          "base_uri": "https://localhost:8080/"
        },
        "id": "zd5lTNiVdJd6",
        "outputId": "dbc24f49-ddac-4318-b358-40027ac59911"
      },
      "outputs": [
        {
          "name": "stdout",
          "output_type": "stream",
          "text": [
            "Logistic Regression Test 결과\n",
            "              precision    recall  f1-score   support\n",
            "\n",
            "           0       0.73      0.81      0.77        57\n",
            "           1       0.81      0.74      0.77        65\n",
            "\n",
            "    accuracy                           0.77       122\n",
            "   macro avg       0.77      0.77      0.77       122\n",
            "weighted avg       0.77      0.77      0.77       122\n",
            "\n"
          ]
        }
      ],
      "source": [
        "# Hyperparameter tuning with GridSearchCV\n",
        "gscv_logreg = GridSearchCV(model_logreg, param_logreg, cv=cv, n_jobs=-1, scoring='accuracy')\n",
        "gscv_logreg.fit(X_train, y_train)\n",
        "\n",
        "# Get the best model\n",
        "MODEL_LOGREG = gscv_logreg.best_estimator_\n",
        "\n",
        "# Predict\n",
        "pred_logreg = MODEL_LOGREG.predict(X_test)\n",
        "\n",
        "# Evaluate performance\n",
        "print(\"Logistic Regression Test 결과\")\n",
        "print(classification_report(y_test, pred_logreg))"
      ]
    },
    {
      "cell_type": "markdown",
      "metadata": {
        "id": "LsGGbWymdOdd"
      },
      "source": [
        "### LightGBM"
      ]
    },
    {
      "cell_type": "code",
      "execution_count": null,
      "metadata": {
        "id": "tSOF1T0BdMQL"
      },
      "outputs": [],
      "source": [
        "# import model\n",
        "from lightgbm import LGBMClassifier"
      ]
    },
    {
      "cell_type": "code",
      "execution_count": null,
      "metadata": {
        "id": "mwz9tpG8dQyx"
      },
      "outputs": [],
      "source": [
        "# Initialize LightGBM model\n",
        "model_lgbm = LGBMClassifier(random_state=42,verbosity=-1)"
      ]
    },
    {
      "cell_type": "code",
      "execution_count": null,
      "metadata": {
        "id": "WXXgqMhddSVa"
      },
      "outputs": [],
      "source": [
        "# Define hyperparameter search space\n",
        "param_lgbm = {\n",
        "    'n_estimators': [500, 1000, 2000],\n",
        "    'learning_rate': [0.01, 0.05, 0.1, 0.2],\n",
        "    'max_depth': [3, 5, 7, 9],\n",
        "    'num_leaves': [15, 31, 63],\n",
        "    'min_child_samples': [10, 20, 30]\n",
        "}"
      ]
    },
    {
      "cell_type": "code",
      "execution_count": null,
      "metadata": {
        "colab": {
          "base_uri": "https://localhost:8080/"
        },
        "id": "ALR3bsZqdTe6",
        "outputId": "8a90e741-0fe1-4219-a7e0-9e5a47e3eeaa"
      },
      "outputs": [
        {
          "name": "stdout",
          "output_type": "stream",
          "text": [
            "LGBM Test 결과\n",
            "              precision    recall  f1-score   support\n",
            "\n",
            "           0       0.82      0.82      0.82        57\n",
            "           1       0.85      0.85      0.85        65\n",
            "\n",
            "    accuracy                           0.84       122\n",
            "   macro avg       0.84      0.84      0.84       122\n",
            "weighted avg       0.84      0.84      0.84       122\n",
            "\n"
          ]
        }
      ],
      "source": [
        "# Hyperparameter tuning with GridSearchCV\n",
        "gscv_lgbm = GridSearchCV(model_lgbm, param_lgbm, cv=cv, n_jobs=-1, scoring='accuracy')\n",
        "gscv_lgbm.fit(X_train, y_train)\n",
        "\n",
        "# Get the best model\n",
        "MODEL_LGBM = gscv_lgbm.best_estimator_\n",
        "\n",
        "# Predict\n",
        "y_pred_lgbm = MODEL_LGBM.predict(X_test)\n",
        "\n",
        "# Evaluate performance\n",
        "print(\"LGBM Test 결과\")\n",
        "print(classification_report(y_test, y_pred_lgbm))"
      ]
    },
    {
      "cell_type": "markdown",
      "metadata": {
        "id": "fQJUOn4id6_X"
      },
      "source": [
        "### ANN"
      ]
    },
    {
      "cell_type": "code",
      "execution_count": null,
      "metadata": {
        "id": "7S4ZDxCTdWhj"
      },
      "outputs": [],
      "source": [
        "# import model\n",
        "from sklearn.neural_network import MLPClassifier"
      ]
    },
    {
      "cell_type": "code",
      "execution_count": null,
      "metadata": {
        "id": "Iz5kDLBgdvz-"
      },
      "outputs": [],
      "source": [
        "# Initialize Neural Network model\n",
        "model_ann = MLPClassifier(random_state=42, max_iter=500)"
      ]
    },
    {
      "cell_type": "code",
      "execution_count": null,
      "metadata": {
        "id": "7XV3Jh9qdxH3"
      },
      "outputs": [],
      "source": [
        "# Define hyperparameter search space\n",
        "param_ann = {\n",
        "    'hidden_layer_sizes': [(50,), (100,), (50, 50), (100, 50)],\n",
        "    'activation': ['relu', 'tanh'],\n",
        "    'alpha': [0.0001, 0.001, 0.01],\n",
        "    'learning_rate': ['constant', 'adaptive']\n",
        "}"
      ]
    },
    {
      "cell_type": "code",
      "execution_count": null,
      "metadata": {
        "colab": {
          "base_uri": "https://localhost:8080/"
        },
        "id": "k8cRU5nfdzBj",
        "outputId": "2c170c43-0b92-45fb-9bb3-9aa2a07c9fab"
      },
      "outputs": [
        {
          "name": "stdout",
          "output_type": "stream",
          "text": [
            "ANN Test 결과\n",
            "              precision    recall  f1-score   support\n",
            "\n",
            "           0       0.78      0.89      0.84        57\n",
            "           1       0.89      0.78      0.84        65\n",
            "\n",
            "    accuracy                           0.84       122\n",
            "   macro avg       0.84      0.84      0.84       122\n",
            "weighted avg       0.84      0.84      0.84       122\n",
            "\n"
          ]
        }
      ],
      "source": [
        "# Hyperparameter tuning with GridSearchCV\n",
        "gscv_ann = GridSearchCV(model_ann, param_ann, cv=cv, n_jobs=-1, scoring='accuracy')\n",
        "gscv_ann.fit(X_train, y_train)\n",
        "\n",
        "# Get the best model\n",
        "MODEL_ANN = gscv_ann.best_estimator_\n",
        "\n",
        "# Predict\n",
        "y_pred_ann = MODEL_ANN.predict(X_test)\n",
        "\n",
        "# Evaluate performance\n",
        "print(\"ANN Test 결과\")\n",
        "print(classification_report(y_test, y_pred_ann))"
      ]
    },
    {
      "cell_type": "markdown",
      "metadata": {
        "id": "PJFudYfyd3r-"
      },
      "source": [
        "## 모델 성능 비교"
      ]
    },
    {
      "cell_type": "code",
      "execution_count": 36,
      "metadata": {
        "id": "yZnrA53Dd5cF"
      },
      "outputs": [],
      "source": [
        "from sklearn.metrics import accuracy_score, precision_score, recall_score, f1_score, roc_auc_score, roc_curve, auc"
      ]
    },
    {
      "cell_type": "code",
      "execution_count": null,
      "metadata": {},
      "outputs": [],
      "source": [
        "# save models in a dictionary\n",
        "models = {\n",
        "    'RandomForest': MODEL_RF,\n",
        "    'LogisticRegression': MODEL_LOGREG,\n",
        "    'DecisionTree': MODEL_DT,\n",
        "    'SVM': MODEL_SVM,\n",
        "    'LightGBM': MODEL_LGBM,\n",
        "    'ANN': MODEL_ANN\n",
        "}\n",
        "\n",
        "# results list\n",
        "results = []"
      ]
    },
    {
      "cell_type": "markdown",
      "metadata": {},
      "source": [
        "ROC Curve"
      ]
    },
    {
      "cell_type": "code",
      "execution_count": null,
      "metadata": {
        "colab": {
          "base_uri": "https://localhost:8080/",
          "height": 564
        },
        "id": "fIGQzvrLd-Fx",
        "outputId": "4f99b11f-1fef-419b-e225-c724b26ec2db"
      },
      "outputs": [
        {
          "data": {
            "image/png": "[encoded data removed]",
            "text/plain": [
              "<Figure size 800x600 with 1 Axes>"
            ]
          },
          "metadata": {},
          "output_type": "display_data"
        }
      ],
      "source": [
        "fig, ax = plt.subplots(figsize=(8, 6))\n",
        "\n",
        "for name, model in models.items():\n",
        "   \n",
        "    y_pred = model.predict(X_test)\n",
        "    y_score = model.predict_proba(X_test)[:, 1]\n",
        "\n",
        "    # Calculate evaluation metrics\n",
        "    acc = accuracy_score(y_test, y_pred)\n",
        "    precision = precision_score(y_test, y_pred)\n",
        "    recall = recall_score(y_test, y_pred)\n",
        "    f1 = f1_score(y_test, y_pred)\n",
        "    roc_auc = roc_auc_score(y_test, y_score)\n",
        "\n",
        "    # Save results\n",
        "    results.append({\n",
        "        'Model': name,\n",
        "        'Accuracy': acc,\n",
        "        'Precision': precision,\n",
        "        'Recall': recall,\n",
        "        'F1-score': f1,\n",
        "        'AUC': roc_auc\n",
        "    })\n",
        "\n",
        "    # Plot ROC curve\n",
        "    fpr, tpr, _ = roc_curve(y_test, y_score)\n",
        "    ax.plot(fpr, tpr, label=f'{name} (AUC = {roc_auc:.2f})')\n",
        "\n",
        "ax.plot([0, 1], [0, 1], 'k--', lw=1)\n",
        "ax.set_xlim([0.0, 1.0])\n",
        "ax.set_ylim([0.0, 1.05])\n",
        "ax.set_xlabel('False Positive Rate')\n",
        "ax.set_ylabel('True Positive Rate')\n",
        "ax.set_title('Receiver Operating Characteristic (ROC) Curve')\n",
        "ax.legend(loc='lower right')\n",
        "plt.grid()\n",
        "plt.show()"
      ]
    },
    {
      "cell_type": "markdown",
      "metadata": {},
      "source": [
        "Final Results Summary"
      ]
    },
    {
      "cell_type": "code",
      "execution_count": null,
      "metadata": {
        "colab": {
          "base_uri": "https://localhost:8080/"
        },
        "id": "M0QuR03jeBo7",
        "outputId": "2e9d9ed7-f89d-4493-d9c8-84d803ae82c9"
      },
      "outputs": [
        {
          "name": "stdout",
          "output_type": "stream",
          "text": [
            "                Model  Accuracy  Precision    Recall  F1-score       AUC\n",
            "0        RandomForest  0.877049   0.878788  0.892308  0.885496  0.940486\n",
            "1                 ANN  0.836066   0.894737  0.784615  0.836066  0.926586\n",
            "2            LightGBM  0.836066   0.846154  0.846154  0.846154  0.911201\n",
            "3  LogisticRegression  0.770492   0.813559  0.738462  0.774194  0.882591\n",
            "4        DecisionTree  0.770492   0.849057  0.692308  0.762712  0.880972\n",
            "5                 SVM  0.762295   0.800000  0.738462  0.768000  0.876653\n"
          ]
        }
      ],
      "source": [
        "# DataFrame with results\n",
        "results_df = pd.DataFrame(results)\n",
        "\n",
        "# Sort models by AUC\n",
        "results_df = results_df.sort_values(by='AUC', ascending=False).reset_index(drop=True)\n",
        "\n",
        "# Display evaluation results\n",
        "print(results_df)"
      ]
    }
  ],
  "metadata": {
    "accelerator": "GPU",
    "colab": {
      "gpuType": "T4",
      "provenance": []
    },
    "kernelspec": {
      "display_name": "Python 3",
      "name": "python3"
    },
    "language_info": {
      "name": "python"
    }
  },
  "nbformat": 4,
  "nbformat_minor": 0
}
